{
  "cells": [
    {
      "cell_type": "markdown",
      "metadata": {},
      "source": [
        "# Optimizing Quick Commerce Logistics in Kochi (Full Notebook)\n",
        "This notebook fetches OpenStreetMap data for Kochi, creates demand zones, estimates demand, and runs:\n",
        "- Facility location optimization (PuLP)\n- Vehicle routing problem (OR-Tools)\n- Visualizations (Folium)\n\nRun all cells in Colab. Cells install dependencies automatically."
      ]
    },
    {
      "cell_type": "code",
      "execution_count": null,
      "metadata": {},
      "outputs": [],
      "source": [
        "# Install dependencies (runs in Colab)\n",
        "!pip install osmnx==1.2.2 geopandas pulp ortools folium matplotlib pandas numpy networkx scipy scikit-learn\n"
      ]
    },
    {
      "cell_type": "code",
      "execution_count": null,
      "metadata": {},
      "outputs": [],
      "source": [
        "import os\nimport time\nimport pandas as pd\nimport numpy as np\nimport geopandas as gpd\nimport osmnx as ox\nimport networkx as nx\nimport matplotlib.pyplot as plt\nfrom shapely.geometry import Point\nfrom scripts.geo_utils import haversine_km\nprint('Libraries imported')\n"
      ]
    },
    {
      "cell_type": "markdown",
      "metadata": {},
      "source": [
        "## 1) Fetch Kochi boundary, road network, and POIs\n",
        "This may take a minute. We use OSMnx to download the city polygon, road network, and POIs."
      ]
    },
    {
      "cell_type": "code",
      "execution_count": null,
      "metadata": {},
      "outputs": [],
      "source": [
        "place = 'Kochi, Kerala, India'\nprint('Geocoding:', place)\nkoch = ox.geocode_to_gdf(place)\nkoch.to_file('data/koch_boundary.geojson', driver='GeoJSON')\nprint('Saved boundary')\n\n# Road network (drive)\nG = ox.graph_from_place(place, network_type='drive')\nox.save_graphml(G, 'data/koch_graph.graphml')\nprint('Saved graph')\n\n# POIs (shops, supermarkets, warehouses)\ntags = {'shop':True, 'supermarket':True, 'warehouse':True}\npois = ox.geometries_from_place(place, tags)\npois = pois[['geometry']].dropna()\npois.to_file('data/koch_pois.geojson', driver='GeoJSON')\nprint('Saved POIs:', len(pois))\n"
      ]
    },
    {
      "cell_type": "markdown",
      "metadata": {},
      "source": [
        "## 2) Create grid demand zones (approx 2 km cells) and estimate demand\n"
      ]
    },
    {
      "cell_type": "code",
      "execution_count": null,
      "metadata": {},
      "outputs": [],
      "source": [
        "from shapely.geometry import box\npoly = koch.geometry.iloc[0]\nminx, miny, maxx, maxy = poly.bounds\ncell_size_deg = 0.018\ncells = []\nxs = np.arange(minx, maxx, cell_size_deg)\nys = np.arange(miny, maxy, cell_size_deg)\nfor x in xs:\n    for y in ys:\n        cell = box(x, y, x+cell_size_deg, y+cell_size_deg)\n        if cell.intersects(poly):\n            cells.append(cell)\nzones = gpd.GeoDataFrame({'geometry': cells}, crs=koch.crs)\nzones['centroid'] = zones.geometry.centroid\nzones = zones.set_geometry('geometry')\nzones.to_file('data/koch_zones.geojson', driver='GeoJSON')\nprint('Created', len(zones), 'zones')\nzones['area'] = zones.geometry.area\nzones['demand'] = (zones['area']/zones['area'].sum() * 2000).round().astype(int)\nzones[['demand']].to_csv('data/zone_demands.csv', index=False)\nprint('Saved zone demands')\n"
      ]
    },
    {
      "cell_type": "markdown",
      "metadata": {},
      "source": [
        "## 3) Candidate facilities selection (k-means on POI centroids)\n"
      ]
    },
    {
      "cell_type": "code",
      "execution_count": null,
      "metadata": {},
      "outputs": [],
      "source": [
        "candidates = pois.copy()\ncandidates['x'] = candidates.geometry.centroid.x\ncandidates['y'] = candidates.geometry.centroid.y\nfrom sklearn.cluster import KMeans\nk = min(8, len(candidates))\nif k>0:\n    km = KMeans(n_clusters=k, random_state=0).fit(candidates[['x','y']])\n    candidates['cluster'] = km.labels_\n    cand = candidates.dissolve(by='cluster', aggfunc='first').reset_index(drop=True)\nelse:\n    cand = gpd.GeoDataFrame({'geometry':[Point(minx + (i+0.5)*cell_size_deg, miny + (i+0.5)*cell_size_deg) for i in range(6)]}, crs=koch.crs)\n\ncand = cand.head(8).copy()\ncand['fixed_cost'] = [1200,1100,1300,900,1000,1400,1250,1150][:len(cand)]\ncand['capacity'] = [800,700,900,600,750,1000,850,900][:len(cand)]\ncand.to_file('data/candidates.geojson', driver='GeoJSON')\nprint('Saved', len(cand), 'candidate facilities')\n"
      ]
    },
    {
      "cell_type": "markdown",
      "metadata": {},
      "source": [
        "## 4) Facility location MILP (PuLP)\n"
      ]
    },
    {
      "cell_type": "code",
      "execution_count": null,
      "metadata": {},
      "outputs": [],
      "source": [
        "fac_coords = [(pt.y, pt.x) for pt in cand.geometry.centroid]\nzone_coords = [(pt.y, pt.x) for pt in zones.geometry.centroid]\nM = len(fac_coords); N = len(zone_coords)\ntransport_cost = np.zeros((M,N))\nfor i in range(M):\n    for j in range(N):\n        transport_cost[i,j] = haversine_km(fac_coords[i][1], fac_coords[i][0], zone_coords[j][1], zone_coords[j][0]) * 8\n\nimport pulp\nfac_df = pd.DataFrame({'fixed_cost':cand['fixed_cost'].values, 'capacity':cand['capacity'].values})\nzone_df = pd.DataFrame({'demand':zones['demand'].values})\nprob = pulp.LpProblem('FacilityLocation', pulp.LpMinimize)\nopen_var = pulp.LpVariable.dicts('open', range(M), 0,1,cat='Binary')\nflow = pulp.LpVariable.dicts('flow', [(i,j) for i in range(M) for j in range(N)], lowBound=0)\nprob += pulp.lpSum([open_var[i]*fac_df.loc[i,'fixed_cost'] for i in range(M)]) + pulp.lpSum([flow[(i,j)]*transport_cost[i,j] for i in range(M) for j in range(N)])\nfor j in range(N):\n    prob += pulp.lpSum([flow[(i,j)] for i in range(M)]) == float(zone_df.loc[j,'demand'])\nfor i in range(M):\n    prob += pulp.lpSum([flow[(i,j)] for j in range(N)]) <= float(fac_df.loc[i,'capacity'])*open_var[i]\nprob.solve(pulp.PULP_CBC_CMD(msg=0))\nopen_list = [int(open_var[i].value()) for i in range(M)]\nprint('Open facilities:', open_list)\n\npd.DataFrame({'open':open_list}).to_csv('data/open_facilities.csv', index=False)\npd.DataFrame(transport_cost).to_csv('data/transport_cost_matrix.csv', index=False)\nprint('Saved outputs')\n"
      ]
    },
    {
      "cell_type": "markdown",
      "metadata": {},
      "source": [
        "## 5) VRP on top-demand zones (OR-Tools)\n"
      ]
    },
    {
      "cell_type": "code",
      "execution_count": null,
      "metadata": {},
      "outputs": [],
      "source": [
        "from ortools.constraint_solver import pywrapcp, routing_enums_pb2\nopen_idx = None\nfor i,o in enumerate(open_list):\n    if o==1:\n        open_idx = i\n        break\nif open_idx is None:\n    open_idx = 0\n\nzones_small = zones.copy()\nzones_small['idx'] = range(len(zones_small))\nzones_small = zones_small.sort_values('demand', ascending=False).head(20).reset_index(drop=True)\ncoords = [(pt.y, pt.x) for pt in zones_small.geometry.centroid]\nK = len(coords)+1\ndepot_coord = fac_coords[open_idx]\nall_coords = [depot_coord] + coords\nD = [[0]*K for _ in range(K)]\nfor i in range(K):\n    for j in range(K):\n        if i==j: D[i][j]=0\n        else:\n            D[i][j]=int(haversine_km(all_coords[i][1], all_coords[i][0], all_coords[j][1], all_coords[j][0])*1000)\n\ndemands = [0] + zones_small['demand'].astype(int).tolist()\nvehicle_cap = 2000\nnum_veh = 4\nmanager = pywrapcp.RoutingIndexManager(K, num_veh, 0)\nrouting = pywrapcp.RoutingModel(manager)\n\ndef dist_callback(from_index, to_index):\n    from_node = manager.IndexToNode(from_index)\n    to_node = manager.IndexToNode(to_index)\n    return D[from_node][to_node]\ntransit_idx = routing.RegisterTransitCallback(dist_callback)\nrouting.SetArcCostEvaluatorOfAllVehicles(transit_idx)\n\ndef demand_callback(from_index):\n    return demands[manager.IndexToNode(from_index)]\ndemand_idx = routing.RegisterUnaryTransitCallback(demand_callback)\nrouting.AddDimensionWithVehicleCapacity(demand_idx, 0, [vehicle_cap]*num_veh, True, 'Capacity')\n\nsearch_params = pywrapcp.DefaultRoutingSearchParameters()\nsearch_params.first_solution_strategy = routing_enums_pb2.FirstSolutionStrategy.PATH_CHEAPEST_ARC\nsolution = routing.SolveWithParameters(search_params)\nroutes = []\nif solution:\n    for v in range(num_veh):\n        idx = routing.Start(v)\n        route_nodes = []\n        while not routing.IsEnd(idx):\n            route_nodes.append(manager.IndexToNode(idx))\n            idx = solution.Value(routing.NextVar(idx))\n        routes.append(route_nodes)\n    print('Routes (node indices incl depot=0):')\n    for r in routes:\n        print(r)\nelse:\n    print('No VRP solution')\n\nwith open('data/vrp_routes.txt','w') as f:\n    for r in routes:\n        f.write(str(r)+'\\n')\nprint('Saved VRP routes')\n"
      ]
    },
    {
      "cell_type": "markdown",
      "metadata": {},
      "source": [
        "## 6) Visualize and save interactive map\n"
      ]
    },
    {
      "cell_type": "code",
      "execution_count": null,
      "metadata": {},
      "outputs": [],
      "source": [
        "import folium\nfrom folium.plugins import MarkerCluster\ncent = [koch.geometry.iloc[0].centroid.y, koch.geometry.iloc[0].centroid.x]\nfm = folium.Map(location=cent, zoom_start=12)\nmc = MarkerCluster().add_to(fm)\nfor i,row in cand.iterrows():\n    lon = row.geometry.centroid.x\n    lat = row.geometry.centroid.y\n    folium.Marker([lat, lon], popup=f'Candidate {i}, fixed_cost={row.fixed_cost}').add_to(mc)\nfor i,o in enumerate(open_list):\n    if o==1:\n        p = cand.geometry.centroid.iloc[i]\n        folium.CircleMarker([p.y,p.x], radius=8, color='green', fill=True, popup='Open Facility').add_to(fm)\nfm.save('data/koch_routes_map.html')\nprint('Saved interactive map to data/koch_routes_map.html')\n"
      ]
    },
    {
      "cell_type": "code",
      "execution_count": null,
      "metadata": {},
      "outputs": [],
      "source": [
        "import os\nprint('Saved data files:')\nprint(os.listdir('data'))\n"
      ]
    }
  ],
  "metadata": {
    "kernelspec": {
      "display_name": "Python 3",
      "language": "python",
      "name": "python3"
    },
    "language_info": {
      "name": "python"
    }
  },
  "nbformat": 4,
  "nbformat_minor": 5
}