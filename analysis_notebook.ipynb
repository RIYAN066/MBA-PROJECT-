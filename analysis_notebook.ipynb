{
  "cells": [
    {
      "cell_type": "markdown",
      "metadata": {},
      "source": [
        "# Optimizing Quick Commerce Logistics in Kochi\n\nThis notebook walks through:\n\n- Fetching Kochi geodata (OSM)\n- Creating demand zones\n- Preparing candidate facility locations\n- Running facility location MILP (PuLP)\n- Running VRP (OR-Tools)\n- Visualizing results (folium maps)\n"
      ]
    },
    {
      "cell_type": "code",
      "execution_count": null,
      "metadata": {},
      "outputs": [],
      "source": [
        "import os\nfrom scripts.data_fetch import fetch_koch_city_boundary, fetch_road_network, fetch_pois, create_grid_zones, estimate_zone_demands\nfrom scripts.facility_optimization import solve_facility_location\nfrom scripts.vrp_solver import solve_vrp\n\n# Create data/ folder\nos.makedirs('../data', exist_ok=True)\n\n# 1) Fetch Kochi polygon (this requires internet)\nkoch = fetch_koch_city_boundary()\nkoch.to_file('../data/koch_boundary.geojson', driver='GeoJSON')\nprint('Saved Kochi boundary')\n\n# 2) Fetch POIs and road network (OSM)\nG = fetch_road_network()\nox.save_graphml(G, '../data/koch_graph.graphml')\nprint('Saved road graph')\n\npois = fetch_pois()\npois.to_file('../data/koch_pois.geojson', driver='GeoJSON')\nprint('Saved POIs')\n\n# 3) Make grid zones\nzones = create_grid_zones(koch, cell_size=2000)\nzones.to_file('../data/koch_zones.geojson', driver='GeoJSON')\nprint('Saved zones')\n\n# 4) Estimate demands (replace with real population data if available)\nzones = estimate_zone_demands(zones, total_orders_per_day=2500)\nzones[['est_orders_per_day']].to_csv('../data/zone_demands.csv')\nprint('Saved zone demands')\n\n# 5) Prepare candidate facilities from POIs (top supermarkets/warehouses)\n# For demo, pick the first 6 POIs as candidates (you should filter by tags)\ncandidates = pois.head(6).copy()\ncandidates['fixed_cost'] = [1200,1100,1300,900,1000,1400]\ncandidates['capacity'] = [800,700,900,600,750,1000]\ncandidates.to_file('../data/candidates.geojson', driver='GeoJSON')\nprint('Saved candidate facilities')\n\n# 6) Compute approximate transport cost matrix using centroid distances (Haversine)\nimport numpy as np\nfrom shapely.geometry import Point\n\ndef haversine(a,b):\n    import math\n    lon1, lat1 = a\n    lon2, lat2 = b\n    R = 6371\n    phi1 = math.radians(lat1)\n    phi2 = math.radians(lat2)\n    dphi = math.radians(lat2-lat1)\n    dlambda = math.radians(lon2-lon1)\n    a = math.sin(dphi/2)**2 + math.cos(phi1)*math.cos(phi2)*math.sin(dlambda/2)**2\n    return R*2*math.atan2(math.sqrt(a), math.sqrt(1-a))\n\nfac_coords = [(geom.y, geom.x) for geom in candidates.geometry.centroid]\nzone_centroids = [(geom.y, geom.x) for geom in zones.geometry.centroid]\n\nm = len(fac_coords); n = len(zone_centroids)\ntransport_cost = np.zeros((m,n))\nfor i in range(m):\n    for j in range(n):\n        distance_km = haversine((fac_coords[i][1], fac_coords[i][0]), (zone_centroids[j][1], zone_centroids[j][0]))\n        transport_cost[i,j] = distance_km * 10  # cost per km (INR) - adjust\n\n# 7) Run facility optimization\nimport pandas as pd\nfac_df = pd.DataFrame({'fixed_cost': candidates['fixed_cost'].values, 'capacity': candidates['capacity'].values})\nzone_df = pd.DataFrame({'demand': zones['est_orders_per_day'].astype(int).values})\nres = solve_facility_location(fac_df.reset_index(drop=True), zone_df.reset_index(drop=True), transport_cost)\nprint('Optimization status:', res['status'])\nprint('Total cost:', res['total_cost'])\n\n# 8) Save outputs\npd.DataFrame(res['flows']).to_csv('../data/flows.csv', index=False)\npd.DataFrame({'open': res['open']}).to_csv('../data/open_facilities.csv', index=False)\nprint('Saved outputs to data folder')\n"
      ]
    }
  ],
  "metadata": {
    "kernelspec": {
      "display_name": "Python 3",
      "language": "python",
      "name": "python3"
    },
    "language_info": {
      "name": "python"
    }
  },
  "nbformat": 4,
  "nbformat_minor": 5
}