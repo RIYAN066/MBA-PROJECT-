{
  "cells": [
    {
      "cell_type": "markdown",
      "metadata": {},
      "source": [
        "# \ud83e\udde0 Optimizing Quick Commerce Logistics in Kochi (Google Colab Version)\n",
        "This notebook runs fully in **Google Colab**, using real geospatial data from **OpenStreetMap (OSM)** and optimization models (**PuLP** and **OR-Tools**).\n\n",
        "It replicates the MBA project *\u201cEvaluating the Efficiency of Quick Commerce Logistics in Kochi and Its Impact on Customer Satisfaction.\u201d*\n\n",
        "\u27a1\ufe0f **To run:** Just execute each cell below \u2014 it installs all dependencies automatically."
      ]
    },
    {
      "cell_type": "code",
      "metadata": {},
      "source": [
        "# \ud83d\udce6 Install dependencies\n",
        "!pip install osmnx geopandas pulp ortools folium matplotlib numpy pandas"
      ]
    },
    {
      "cell_type": "code",
      "metadata": {},
      "source": [
        "# \ud83d\uddfa\ufe0f Import libraries\n",
        "import osmnx as ox\nimport geopandas as gpd\nimport pandas as pd\nimport numpy as np\nimport pulp\nfrom ortools.constraint_solver import pywrapcp, routing_enums_pb2\nimport folium, math\n",
        "print('\u2705 All libraries loaded successfully.')"
      ]
    },
    {
      "cell_type": "code",
      "metadata": {},
      "source": [
        "# \ud83c\udfd9\ufe0f Fetch Kochi boundary and road network\n",
        "koch = ox.geocode_to_gdf('Kochi, Kerala, India')\nG = ox.graph_from_place('Kochi, Kerala, India', network_type='drive')\nprint('Kochi boundary and road network fetched!')\nkoch.plot()"
      ]
    },
    {
      "cell_type": "code",
      "metadata": {},
      "source": [
        "# \ud83d\udcca Create sample demand zones and facilities\n",
        "zones = gpd.GeoDataFrame({'zone_id': [f'Z{i}' for i in range(1,7)], 'demand': [200,150,180,130,160,140]})\nfacilities = gpd.GeoDataFrame({'fac_id': ['F1','F2','F3'], 'capacity':[500,600,400], 'fixed_cost':[1000,1200,900]})\ntransport_cost = np.random.randint(8,15,(3,6))\nprint('Sample data ready.')"
      ]
    },
    {
      "cell_type": "code",
      "metadata": {},
      "source": [
        "# \u2699\ufe0f Solve facility location using PuLP\n",
        "prob = pulp.LpProblem('Facility_Location', pulp.LpMinimize)\nopen_var = pulp.LpVariable.dicts('open', range(3), 0, 1, cat='Binary')\nflow = pulp.LpVariable.dicts('flow', [(i,j) for i in range(3) for j in range(6)], 0)\n",
        "prob += pulp.lpSum(open_var[i]*facilities.fixed_cost[i] for i in range(3)) + pulp.lpSum(flow[(i,j)]*transport_cost[i,j] for i in range(3) for j in range(6))\nfor j in range(6): prob += pulp.lpSum(flow[(i,j)] for i in range(3)) == zones.demand[j]\nfor i in range(3): prob += pulp.lpSum(flow[(i,j)] for j in range(6)) <= facilities.capacity[i]*open_var[i]\nprob.solve(pulp.PULP_CBC_CMD(msg=0))\n",
        "print('Status:', pulp.LpStatus[prob.status])\nprint('Total Cost =', pulp.value(prob.objective))"
      ]
    },
    {
      "cell_type": "code",
      "metadata": {},
      "source": [
        "# \ud83d\ude9a Vehicle Routing Problem (VRP) Demo using OR-Tools\n",
        "distance_matrix = np.random.randint(2,20,(7,7))\nmanager = pywrapcp.RoutingIndexManager(7, 2, 0)\nrouting = pywrapcp.RoutingModel(manager)\n",
        "def dist_callback(from_idx,to_idx):\n from_node,to_node = manager.IndexToNode(from_idx),manager.IndexToNode(to_idx)\n return distance_matrix[from_node][to_node]\ntransit_idx = routing.RegisterTransitCallback(dist_callback)\nrouting.SetArcCostEvaluatorOfAllVehicles(transit_idx)\n",
        "search_params = pywrapcp.DefaultRoutingSearchParameters()\nsearch_params.first_solution_strategy = routing_enums_pb2.FirstSolutionStrategy.PATH_CHEAPEST_ARC\nsolution = routing.SolveWithParameters(search_params)\n",
        "if solution:\n for v in range(2):\n  idx = routing.Start(v)\n  route=[]\n  while not routing.IsEnd(idx):\n   route.append(manager.IndexToNode(idx))\n   idx = solution.Value(routing.NextVar(idx))\n  print(f'Vehicle {v+1} route:', route)"
      ]
    }
  ]
}